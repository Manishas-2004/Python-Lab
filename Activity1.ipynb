{
 "cells": [
  {
   "cell_type": "code",
   "execution_count": 3,
   "id": "dab393f5-758f-456d-9fb6-d6e48f03e01b",
   "metadata": {},
   "outputs": [
    {
     "name": "stdin",
     "output_type": "stream",
     "text": [
      "Enter first number: 10\n",
      "Enter second number: 5\n"
     ]
    },
    {
     "name": "stdout",
     "output_type": "stream",
     "text": [
      "Multiplication of two numbers is: 50\n",
      "Sum of two numbers is: 15\n"
     ]
    }
   ],
   "source": [
    "# 1. Calculate the multiplication and sum of two numbers\n",
    "a=int(input(\"Enter first number:\"))\n",
    "b=int(input(\"Enter second number:\"))\n",
    "multiply=a*b\n",
    "sum=a+b\n",
    "print(\"Multiplication of two numbers is:\",multiply)\n",
    "print(\"Sum of two numbers is:\",sum)"
   ]
  },
  {
   "cell_type": "code",
   "execution_count": 5,
   "id": "524476ff-423c-460d-b84f-b8caf972fdf1",
   "metadata": {},
   "outputs": [
    {
     "name": "stdout",
     "output_type": "stream",
     "text": [
      "The largest number is:50\n"
     ]
    }
   ],
   "source": [
    "# 2. Find the largest number using ternary operator\n",
    "num1=20\n",
    "num2=50\n",
    "larger_number=num1 if num1>num2 else num2\n",
    "print(f\"The largest number is:{larger_number}\")"
   ]
  },
  {
   "cell_type": "code",
   "execution_count": 7,
   "id": "dbfa0fb6-c2b1-4741-b967-a661cb39d053",
   "metadata": {},
   "outputs": [
    {
     "name": "stdin",
     "output_type": "stream",
     "text": [
      "Enter your name:  Manisha\n",
      "Enter your age:  20\n",
      "Enter your city:  Bangalore\n"
     ]
    },
    {
     "name": "stdout",
     "output_type": "stream",
     "text": [
      "Hello, my name is Manisha. I am 20 years old and I live in Bangalore.\n"
     ]
    }
   ],
   "source": [
    "# 3. Take user input for name, age, and city and print in a formatted string\n",
    "name = input(\"Enter your name: \")\n",
    "age = input(\"Enter your age: \")\n",
    "city = input(\"Enter your city: \")\n",
    "print(f\"Hello, my name is {name}. I am {age} years old and I live in {city}.\")"
   ]
  },
  {
   "cell_type": "code",
   "execution_count": 9,
   "id": "73548fe2-4f13-48f2-b960-6221527c7e7b",
   "metadata": {},
   "outputs": [
    {
     "name": "stdin",
     "output_type": "stream",
     "text": [
      "Enter the breadth: 5\n",
      "Enter the height: 6\n"
     ]
    },
    {
     "name": "stdout",
     "output_type": "stream",
     "text": [
      "Area of triangle is: 15.0\n"
     ]
    }
   ],
   "source": [
    "# 4. Find the area of a triangle given its sides \n",
    "b=int(input(\"Enter the breadth:\"))\n",
    "h=int(input(\"Enter the height:\"))\n",
    "a=0.5*b*h\n",
    "print(\"Area of triangle is:\",a)"
   ]
  },
  {
   "cell_type": "code",
   "execution_count": 15,
   "id": "18cdb6b3-dd31-40b9-84c9-68120ab135a8",
   "metadata": {},
   "outputs": [
    {
     "name": "stdin",
     "output_type": "stream",
     "text": [
      "Enter a number:  20\n"
     ]
    },
    {
     "name": "stdout",
     "output_type": "stream",
     "text": [
      "20 is Even number\n"
     ]
    }
   ],
   "source": [
    "# 5. Check whether a number is even or odd\n",
    "num = int(input(\"Enter a number: \"))\n",
    "if num % 2 == 0:\n",
    "    print(f\"{num} is Even number\")\n",
    "else:\n",
    "    print(f\"{num} is Odd number\")"
   ]
  },
  {
   "cell_type": "code",
   "execution_count": 17,
   "id": "9ff576b5-74b6-45f7-beea-3fd95e538c4e",
   "metadata": {},
   "outputs": [
    {
     "name": "stdin",
     "output_type": "stream",
     "text": [
      "Enter a number:  19\n"
     ]
    },
    {
     "name": "stdout",
     "output_type": "stream",
     "text": [
      "19 is Odd number\n"
     ]
    }
   ],
   "source": [
    "num = int(input(\"Enter a number: \"))\n",
    "if num % 2 == 0:\n",
    "    print(f\"{num} is Even number\")\n",
    "else:\n",
    "    print(f\"{num} is Odd number\")\n"
   ]
  },
  {
   "cell_type": "code",
   "execution_count": 19,
   "id": "1090aa4a-26b0-467e-93f5-4fcfcff10af1",
   "metadata": {},
   "outputs": [
    {
     "name": "stdin",
     "output_type": "stream",
     "text": [
      "Enter a number:  5\n"
     ]
    },
    {
     "name": "stdout",
     "output_type": "stream",
     "text": [
      "The square of given number is:25\n",
      "The cube of given number is:125\n"
     ]
    }
   ],
   "source": [
    "# 6. Find the square and cube of a given number\n",
    "num=int(input(\"Enter a number: \"))\n",
    "square = num ** 2\n",
    "cube = num ** 3\n",
    "print(f\"The square of given number is:{square}\")\n",
    "print(f\"The cube of given number is:{cube}\")"
   ]
  },
  {
   "cell_type": "code",
   "execution_count": 21,
   "id": "44e1e003-e893-4a46-9d4a-5d269c300212",
   "metadata": {},
   "outputs": [
    {
     "name": "stdin",
     "output_type": "stream",
     "text": [
      "Enter a number:  8\n"
     ]
    },
    {
     "name": "stdout",
     "output_type": "stream",
     "text": [
      "The square of given number is:64\n",
      "The cube of given number is:512\n"
     ]
    }
   ],
   "source": [
    "num=int(input(\"Enter a number: \"))\n",
    "square = num ** 2\n",
    "cube = num ** 3\n",
    "print(f\"The square of given number is:{square}\")\n",
    "print(f\"The cube of given number is:{cube}\")"
   ]
  },
  {
   "cell_type": "code",
   "execution_count": null,
   "id": "913e55ed-ce38-4144-b806-fd1c7177084d",
   "metadata": {},
   "outputs": [],
   "source": []
  }
 ],
 "metadata": {
  "kernelspec": {
   "display_name": "Python [conda env:base] *",
   "language": "python",
   "name": "conda-base-py"
  },
  "language_info": {
   "codemirror_mode": {
    "name": "ipython",
    "version": 3
   },
   "file_extension": ".py",
   "mimetype": "text/x-python",
   "name": "python",
   "nbconvert_exporter": "python",
   "pygments_lexer": "ipython3",
   "version": "3.11.7"
  }
 },
 "nbformat": 4,
 "nbformat_minor": 5
}
