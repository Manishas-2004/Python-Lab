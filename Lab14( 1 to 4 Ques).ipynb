{
 "cells": [
  {
   "cell_type": "code",
   "execution_count": 3,
   "id": "8a3a9ca5-bae4-46c6-9748-2dcf12aade71",
   "metadata": {},
   "outputs": [
    {
     "name": "stdout",
     "output_type": "stream",
     "text": [
      "Descending order of sales data: [4500, 3200, 2300, 1200, 800]\n"
     ]
    }
   ],
   "source": [
    "# 1. Sorting Sales Data:\n",
    "# Task: Given daily sales data [1200, 4500, 2300, 800, 3200], sort them in descending order.\n",
    "\n",
    "sales = [1200, 4500, 2300, 800, 3200]\n",
    "sorted_sales = sorted(sales, reverse=True)\n",
    "print(\"Descending order of sales data:\",sorted_sales)\n"
   ]
  },
  {
   "cell_type": "code",
   "execution_count": null,
   "id": "b0195c18-c011-4a1f-b765-a18e87dc4fd6",
   "metadata": {},
   "outputs": [],
   "source": []
  },
  {
   "cell_type": "code",
   "execution_count": 5,
   "id": "124634d2-db0b-40c3-943c-ff6fd70188bb",
   "metadata": {},
   "outputs": [
    {
     "name": "stdout",
     "output_type": "stream",
     "text": [
      "[78, 65]\n",
      "[89, 90]\n",
      "[56, 80]\n"
     ]
    }
   ],
   "source": [
    "# 2. Splitting Student Marks:\n",
    "# Task: Split the student marks [78, 65, 89, 90, 56, 80] into 3 equal groups.\n",
    "\n",
    "import numpy as np\n",
    "\n",
    "marks = [78, 65, 89, 90, 56, 80]\n",
    "groups = np.array_split(marks, 3)\n",
    "for group in groups:\n",
    "    print(group.tolist())\n"
   ]
  },
  {
   "cell_type": "code",
   "execution_count": null,
   "id": "6e03e6a8-9722-4e76-b742-26bfb269289f",
   "metadata": {},
   "outputs": [],
   "source": []
  },
  {
   "cell_type": "code",
   "execution_count": 7,
   "id": "27adc557-dc1d-4f1a-95c6-10b5faff1319",
   "metadata": {},
   "outputs": [
    {
     "name": "stdout",
     "output_type": "stream",
     "text": [
      "2\n"
     ]
    }
   ],
   "source": [
    "# 3. Finding Best Performing Store:\n",
    "# Task: Find the index of the store with the highest sales from [25000, 32000, 40000, 28000].\n",
    "\n",
    "sales = [25000, 32000, 40000, 28000]\n",
    "best_index = sales.index(max(sales))\n",
    "print(best_index)\n"
   ]
  },
  {
   "cell_type": "code",
   "execution_count": null,
   "id": "b777a5c7-6746-4c72-8d1e-362fca8676c1",
   "metadata": {},
   "outputs": [],
   "source": []
  },
  {
   "cell_type": "code",
   "execution_count": 9,
   "id": "3e877999-32de-487f-b417-2029d049dc37",
   "metadata": {},
   "outputs": [
    {
     "name": "stdout",
     "output_type": "stream",
     "text": [
      "0\n"
     ]
    }
   ],
   "source": [
    "# 4. Finding Worst Performing Store:\n",
    "#Task: Find the index of the store with the lowest sales from [25000, 32000, 40000, 28000\n",
    "\n",
    "sales = [25000, 32000, 40000, 28000]\n",
    "worst_index = sales.index(min(sales))\n",
    "print(worst_index)\n"
   ]
  },
  {
   "cell_type": "code",
   "execution_count": null,
   "id": "4779d9fa-4618-4756-8435-808fa51733d6",
   "metadata": {},
   "outputs": [],
   "source": []
  }
 ],
 "metadata": {
  "kernelspec": {
   "display_name": "Python [conda env:base] *",
   "language": "python",
   "name": "conda-base-py"
  },
  "language_info": {
   "codemirror_mode": {
    "name": "ipython",
    "version": 3
   },
   "file_extension": ".py",
   "mimetype": "text/x-python",
   "name": "python",
   "nbconvert_exporter": "python",
   "pygments_lexer": "ipython3",
   "version": "3.11.7"
  }
 },
 "nbformat": 4,
 "nbformat_minor": 5
}
