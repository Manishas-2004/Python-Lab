{
 "cells": [
  {
   "cell_type": "code",
   "execution_count": 5,
   "id": "3dbc7400-ecfd-40eb-af08-c48f17694470",
   "metadata": {},
   "outputs": [
    {
     "name": "stdout",
     "output_type": "stream",
     "text": [
      "   Order_ID  Customer_Name Payment_Method     Product     Category  Price  \\\n",
      "0       101  Alice Johnson    Credit Card      Laptop  Electronics    800   \n",
      "1       102      Bob Smith         PayPal  Headphones  Accessories     50   \n",
      "2       103  Charlie Brown     Debit Card  Smartphone  Electronics    600   \n",
      "3       104   David Wilson    Net Banking      Tablet  Electronics    300   \n",
      "4       105      Eva Adams            UPI  Smartwatch    Wearables    150   \n",
      "\n",
      "   Quantity Order_Status  Shipping_Partner  \n",
      "0         1      Shipped             FedEx  \n",
      "1         2      Pending               DHL  \n",
      "2         1    Delivered               UPS  \n",
      "3         1      Shipped  Amazon Logistics  \n",
      "4         1      Pending         Blue Dart  \n"
     ]
    }
   ],
   "source": [
    "# 1. Create a DataFrame with Sample E-commerce Transaction Data\n",
    "\n",
    "import pandas as pd\n",
    "data = {\n",
    "    'Order_ID': [101, 102, 103, 104, 105],\n",
    "    'Customer_Name': ['Alice Johnson', 'Bob Smith', 'Charlie Brown', 'David Wilson', 'Eva Adams'],\n",
    "    'Product': ['Laptop', 'Headphones', 'Smartphone', 'Tablet', 'Smartwatch'],\n",
    "    'Category': ['Electronics', 'Accessories', 'Electronics', 'Electronics', 'Wearables'],\n",
    "    'Price': [800, 50, 600, 300, 150],\n",
    "    'Quantity': [1, 2, 1, 1, 1]\n",
    "}\n",
    "df = pd.DataFrame(data)\n",
    "df['Order_Status'] = ['Shipped', 'Pending', 'Delivered', 'Shipped', 'Pending']\n",
    "\n",
    "df['Shipping_Partner'] = ['FedEx', 'DHL', 'UPS', 'Amazon Logistics', 'Blue Dart']\n",
    "df['Review_Rating'] = [4.5, 4.0, 3.8, 4.2, 4.7]\n",
    "\n",
    "payment_methods = ['Credit Card', 'PayPal', 'Debit Card', 'Net Banking', 'UPI']\n",
    "df.insert(2, 'Payment_Method', payment_methods)\n",
    "df.drop(columns=['Review_Rating'], inplace=True)\n",
    "print(df)\n",
    "\n"
   ]
  },
  {
   "cell_type": "code",
   "execution_count": null,
   "id": "bbecb6f9-cc79-449d-bc17-69008bba0094",
   "metadata": {},
   "outputs": [],
   "source": []
  }
 ],
 "metadata": {
  "kernelspec": {
   "display_name": "Python [conda env:base] *",
   "language": "python",
   "name": "conda-base-py"
  },
  "language_info": {
   "codemirror_mode": {
    "name": "ipython",
    "version": 3
   },
   "file_extension": ".py",
   "mimetype": "text/x-python",
   "name": "python",
   "nbconvert_exporter": "python",
   "pygments_lexer": "ipython3",
   "version": "3.11.7"
  }
 },
 "nbformat": 4,
 "nbformat_minor": 5
}
