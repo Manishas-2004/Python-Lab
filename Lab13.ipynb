{
 "cells": [
  {
   "cell_type": "code",
   "execution_count": 1,
   "id": "e7559414-f6fa-474a-99aa-975b7918c6de",
   "metadata": {},
   "outputs": [
    {
     "name": "stdout",
     "output_type": "stream",
     "text": [
      "First element: 1\n",
      "Last element: 5\n",
      "\n",
      "Array after doubling each element:\n",
      "[ 2  4  6  8 10]\n"
     ]
    }
   ],
   "source": [
    "#1. Convert below list into numpy array\n",
    "\n",
    "import numpy as np\n",
    "my_list = [1, 2, 3, 4, 5]\n",
    "arr = np.array(my_list)\n",
    "print(\"First element:\", arr[0])\n",
    "print(\"Last element:\", arr[-1])\n",
    "doubled_arr = arr * 2\n",
    "print(\"\\nArray after doubling each element:\")\n",
    "print(doubled_arr)\n"
   ]
  },
  {
   "cell_type": "code",
   "execution_count": 3,
   "id": "c8f30d31-3c2a-4a48-a905-2f3d6ab73158",
   "metadata": {},
   "outputs": [
    {
     "name": "stdout",
     "output_type": "stream",
     "text": [
      "Highest score: 95\n",
      "Lowest score: 76\n"
     ]
    }
   ],
   "source": [
    "#2.You have a list of exam scores. Find the highest and lowest score.\n",
    "\n",
    "exam_scores = [78, 85, 92, 88, 76, 95, 89]\n",
    "highest_score = max(exam_scores)\n",
    "lowest_score = min(exam_scores)\n",
    "print(\"Highest score:\", highest_score)\n",
    "print(\"Lowest score:\", lowest_score)\n"
   ]
  },
  {
   "cell_type": "code",
   "execution_count": 5,
   "id": "1725c0d9-e82d-4d99-8366-8faff770683b",
   "metadata": {},
   "outputs": [
    {
     "name": "stdout",
     "output_type": "stream",
     "text": [
      "Total yearly expense: 16550\n"
     ]
    }
   ],
   "source": [
    "# 3.You have monthly expenses. Calculate the total yearly expense.\n",
    "\n",
    "monthly_expenses = [1200, 1100, 1150, 1300, 1250, 1400, 1350, 1500, 1450, 1600, 1550, 1700]\n",
    "yearly_expense = sum(monthly_expenses)\n",
    "print(\"Total yearly expense:\", yearly_expense)\n"
   ]
  },
  {
   "cell_type": "code",
   "execution_count": 7,
   "id": "04885839-864f-453a-ab0d-6ebbb006b6a9",
   "metadata": {},
   "outputs": [
    {
     "name": "stdout",
     "output_type": "stream",
     "text": [
      "Even numbers between 10 and 50:\n",
      "[10 12 14 16 18 20 22 24 26 28 30 32 34 36 38 40 42 44 46 48 50]\n"
     ]
    }
   ],
   "source": [
    "#4.Generate even numbers between 10 and 50.\n",
    "\n",
    "import numpy as np\n",
    "even_numbers = np.arange(10, 51, 2)\n",
    "print(\"Even numbers between 10 and 50:\")\n",
    "print(even_numbers)\n"
   ]
  },
  {
   "cell_type": "code",
   "execution_count": null,
   "id": "963c197a-54fe-41c6-ade1-8492d03d7769",
   "metadata": {},
   "outputs": [],
   "source": []
  }
 ],
 "metadata": {
  "kernelspec": {
   "display_name": "Python [conda env:base] *",
   "language": "python",
   "name": "conda-base-py"
  },
  "language_info": {
   "codemirror_mode": {
    "name": "ipython",
    "version": 3
   },
   "file_extension": ".py",
   "mimetype": "text/x-python",
   "name": "python",
   "nbconvert_exporter": "python",
   "pygments_lexer": "ipython3",
   "version": "3.11.7"
  }
 },
 "nbformat": 4,
 "nbformat_minor": 5
}
