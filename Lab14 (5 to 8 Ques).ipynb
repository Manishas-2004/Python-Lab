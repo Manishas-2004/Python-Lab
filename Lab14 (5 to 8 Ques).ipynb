{
 "cells": [
  {
   "cell_type": "code",
   "execution_count": 1,
   "id": "0c0fad5e-3265-4702-b23a-1afa32de26e8",
   "metadata": {},
   "outputs": [
    {
     "name": "stdout",
     "output_type": "stream",
     "text": [
      "2\n"
     ]
    }
   ],
   "source": [
    "# 5. Finding Insertion Index in Sorted Data:import bisect\n",
    "# Task: Given a sorted price list [10, 20, 30, 50], find the position to insert a new price 25.\n",
    "\n",
    "import bisect\n",
    "prices = [10, 20, 30, 50]\n",
    "position = bisect.bisect(prices, 25)\n",
    "print(position)\n",
    "\n"
   ]
  },
  {
   "cell_type": "code",
   "execution_count": null,
   "id": "dfd122fe-9b32-494c-80c9-af4da1793376",
   "metadata": {},
   "outputs": [],
   "source": []
  },
  {
   "cell_type": "code",
   "execution_count": 3,
   "id": "51f78a1a-eaaa-4e63-8741-9c577c04fb1e",
   "metadata": {},
   "outputs": [
    {
     "name": "stdout",
     "output_type": "stream",
     "text": [
      "[36, 40, 37]\n"
     ]
    }
   ],
   "source": [
    "# 6. Filtering High Temperatures:\n",
    "# Task: Identify days with temperatures above 35°C from [30, 36, 40, 28, 37].\n",
    "\n",
    "temperatures = [30, 36, 40, 28, 37]\n",
    "high_temperatures = [temp for temp in temperatures if temp > 35]\n",
    "print(high_temperatures)\n"
   ]
  },
  {
   "cell_type": "code",
   "execution_count": null,
   "id": "f196e77d-f125-4c2b-bb3e-32c171660b89",
   "metadata": {},
   "outputs": [],
   "source": []
  },
  {
   "cell_type": "code",
   "execution_count": 5,
   "id": "da4151ec-5ddb-47c7-b2d7-8f47af0e4c48",
   "metadata": {},
   "outputs": [
    {
     "name": "stdout",
     "output_type": "stream",
     "text": [
      "[55000, 62000]\n"
     ]
    }
   ],
   "source": [
    "# 7. Extracting High Salary Employees:\n",
    "# Task: Extract salaries above ₹50,000 from [40000, 55000, 62000, 48000].\n",
    "\n",
    "salaries = [40000, 55000, 62000, 48000]\n",
    "high_salaries = [salary for salary in salaries if salary > 50000]\n",
    "print(high_salaries)\n",
    "\n",
    "\n"
   ]
  },
  {
   "cell_type": "code",
   "execution_count": null,
   "id": "b0d58138-14ed-4843-bc55-447c31d08c05",
   "metadata": {},
   "outputs": [],
   "source": []
  },
  {
   "cell_type": "code",
   "execution_count": 7,
   "id": "baa413ff-dbee-4092-af54-d0eb9762f7d6",
   "metadata": {},
   "outputs": [
    {
     "name": "stdout",
     "output_type": "stream",
     "text": [
      "[[ 1  2  3  4  5]\n",
      " [ 6  7  8  9 10]\n",
      " [11 12 13 14 15]\n",
      " [16 17 18 19 20]\n",
      " [21 22 23 24 25]]\n"
     ]
    }
   ],
   "source": [
    "# 8.Generate a 5×5 NumPy array with values from 1 to 25.\n",
    "\n",
    "import numpy as np\n",
    "array = np.arange(1, 26).reshape(5, 5)\n",
    "print(array)\n"
   ]
  },
  {
   "cell_type": "code",
   "execution_count": null,
   "id": "2ea85bcd-4dc7-48af-bfbb-17c2ceb8eb35",
   "metadata": {},
   "outputs": [],
   "source": []
  }
 ],
 "metadata": {
  "kernelspec": {
   "display_name": "Python [conda env:base] *",
   "language": "python",
   "name": "conda-base-py"
  },
  "language_info": {
   "codemirror_mode": {
    "name": "ipython",
    "version": 3
   },
   "file_extension": ".py",
   "mimetype": "text/x-python",
   "name": "python",
   "nbconvert_exporter": "python",
   "pygments_lexer": "ipython3",
   "version": "3.11.7"
  }
 },
 "nbformat": 4,
 "nbformat_minor": 5
}
