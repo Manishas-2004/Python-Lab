{
 "cells": [
  {
   "cell_type": "code",
   "execution_count": 9,
   "id": "b315d91a-665d-41fa-adf5-4f5faff8049c",
   "metadata": {},
   "outputs": [
    {
     "name": "stdout",
     "output_type": "stream",
     "text": [
      "   Order_ID  Customer_Name     Product     Category  Price  Quantity  \\\n",
      "0       101  Alice Johnson      Laptop  Electronics    800         1   \n",
      "1       102      Bob Smith  Headphones  Accessories     50         2   \n",
      "2       103  Charlie Brown  Smartphone  Electronics    600         1   \n",
      "3       104   David Wilson      Tablet  Electronics    300         1   \n",
      "4       105      Eva Adams  Smartwatch    Wearables    150         1   \n",
      "\n",
      "  Order_Status  Shipping_Partner  \n",
      "0      Shipped             FedEx  \n",
      "1      Pending               DHL  \n",
      "2    Delivered               UPS  \n",
      "3      Shipped  Amazon Logistics  \n",
      "4      Pending         Blue Dart  \n"
     ]
    }
   ],
   "source": [
    "# 5. Delete the Review_Rating Column\n",
    "\n",
    "import pandas as pd\n",
    "data = {\n",
    "    'Order_ID': [101, 102, 103, 104, 105],\n",
    "    'Customer_Name': ['Alice Johnson', 'Bob Smith', 'Charlie Brown', 'David Wilson', 'Eva Adams'],\n",
    "    'Product': ['Laptop', 'Headphones', 'Smartphone', 'Tablet', 'Smartwatch'],\n",
    "    'Category': ['Electronics', 'Accessories', 'Electronics', 'Electronics', 'Wearables'],\n",
    "    'Price': [800, 50, 600, 300, 150],\n",
    "    'Quantity': [1, 2, 1, 1, 1]\n",
    "}\n",
    "df = pd.DataFrame(data)\n",
    "df['Order_Status'] = ['Shipped', 'Pending', 'Delivered', 'Shipped', 'Pending']\n",
    "\n",
    "df['Shipping_Partner'] = ['FedEx', 'DHL', 'UPS', 'Amazon Logistics', 'Blue Dart']\n",
    "df['Review_Rating'] = [4.5, 4.0, 3.8, 4.2, 4.7]\n",
    "df.drop(columns=['Review_Rating'], inplace=True)\n",
    "print(df)\n"
   ]
  },
  {
   "cell_type": "code",
   "execution_count": null,
   "id": "6cbef6e6-b400-4fd8-aedf-da1b9a67cd7c",
   "metadata": {},
   "outputs": [],
   "source": []
  }
 ],
 "metadata": {
  "kernelspec": {
   "display_name": "Python [conda env:base] *",
   "language": "python",
   "name": "conda-base-py"
  },
  "language_info": {
   "codemirror_mode": {
    "name": "ipython",
    "version": 3
   },
   "file_extension": ".py",
   "mimetype": "text/x-python",
   "name": "python",
   "nbconvert_exporter": "python",
   "pygments_lexer": "ipython3",
   "version": "3.11.7"
  }
 },
 "nbformat": 4,
 "nbformat_minor": 5
}
