{
 "cells": [
  {
   "cell_type": "code",
   "execution_count": 3,
   "id": "40ad9516-4dd2-4547-865f-bd731828bdac",
   "metadata": {},
   "outputs": [
    {
     "name": "stdout",
     "output_type": "stream",
     "text": [
      "   Order_ID  Customer_Name     Product     Category  Price  Quantity  \\\n",
      "0       101  Alice Johnson      Laptop  Electronics    800         1   \n",
      "1       102      Bob Smith  Headphones  Accessories     50         2   \n",
      "2       103  Charlie Brown  Smartphone  Electronics    600         1   \n",
      "3       104   David Wilson      Tablet  Electronics    300         1   \n",
      "4       105      Eva Adams  Smartwatch    Wearables    150         1   \n",
      "\n",
      "  Order_Status  \n",
      "0      Shipped  \n",
      "1      Pending  \n",
      "2    Delivered  \n",
      "3      Shipped  \n",
      "4      Pending  \n",
      "   Order_ID  Customer_Name     Product     Category  Price  Quantity  \\\n",
      "0       101  Alice Johnson      Laptop  Electronics    800         1   \n",
      "1       102      Bob Smith  Headphones  Accessories     50         2   \n",
      "2       103  Charlie Brown  Smartphone  Electronics    600         1   \n",
      "3       104   David Wilson      Tablet  Electronics    300         1   \n",
      "4       105      Eva Adams  Smartwatch    Wearables    150         1   \n",
      "\n",
      "  Order_Status  Shipping_Partner  Review_Rating  \n",
      "0      Shipped             FedEx            4.5  \n",
      "1      Pending               DHL            4.0  \n",
      "2    Delivered               UPS            3.8  \n",
      "3      Shipped  Amazon Logistics            4.2  \n",
      "4      Pending         Blue Dart            4.7  \n"
     ]
    }
   ],
   "source": [
    "#3. Add Multiple Columns (Shipping_Partner & Review_Rating)\n",
    "\n",
    "import pandas as pd\n",
    "data = {\n",
    "    'Order_ID': [101, 102, 103, 104, 105],\n",
    "    'Customer_Name': ['Alice Johnson', 'Bob Smith', 'Charlie Brown', 'David Wilson', 'Eva Adams'],\n",
    "    'Product': ['Laptop', 'Headphones', 'Smartphone', 'Tablet', 'Smartwatch'],\n",
    "    'Category': ['Electronics', 'Accessories', 'Electronics', 'Electronics', 'Wearables'],\n",
    "    'Price': [800, 50, 600, 300, 150],\n",
    "    'Quantity': [1, 2, 1, 1, 1]\n",
    "}\n",
    "\n",
    "df = pd.DataFrame(data)\n",
    "df['Order_Status'] = ['Shipped', 'Pending', 'Delivered', 'Shipped', 'Pending']\n",
    "print(df)\n",
    "df['Shipping_Partner'] = ['FedEx', 'DHL', 'UPS', 'Amazon Logistics', 'Blue Dart']\n",
    "df['Review_Rating'] = [4.5, 4.0, 3.8, 4.2, 4.7]\n",
    "print(df)"
   ]
  },
  {
   "cell_type": "code",
   "execution_count": null,
   "id": "902c6e8d-629f-4a6c-994a-fbb93f003f7e",
   "metadata": {},
   "outputs": [],
   "source": []
  }
 ],
 "metadata": {
  "kernelspec": {
   "display_name": "Python [conda env:base] *",
   "language": "python",
   "name": "conda-base-py"
  },
  "language_info": {
   "codemirror_mode": {
    "name": "ipython",
    "version": 3
   },
   "file_extension": ".py",
   "mimetype": "text/x-python",
   "name": "python",
   "nbconvert_exporter": "python",
   "pygments_lexer": "ipython3",
   "version": "3.11.7"
  }
 },
 "nbformat": 4,
 "nbformat_minor": 5
}
