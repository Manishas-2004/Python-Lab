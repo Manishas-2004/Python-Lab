{
 "cells": [
  {
   "cell_type": "code",
   "execution_count": 1,
   "id": "39db0ebc-df8c-49db-9966-1324e2181740",
   "metadata": {},
   "outputs": [
    {
     "name": "stdout",
     "output_type": "stream",
     "text": [
      "   Order_ID  Customer_Name     Product     Category  Price  Quantity  \\\n",
      "0       101  Alice Johnson      Laptop  Electronics    800         1   \n",
      "1       102      Bob Smith  Headphones  Accessories     50         2   \n",
      "2       103  Charlie Brown  Smartphone  Electronics    600         1   \n",
      "3       104   David Wilson      Tablet  Electronics    300         1   \n",
      "4       105      Eva Adams  Smartwatch    Wearables    150         1   \n",
      "\n",
      "  Order_Status  \n",
      "0      Shipped  \n",
      "1      Pending  \n",
      "2    Delivered  \n",
      "3      Shipped  \n",
      "4      Pending  \n"
     ]
    }
   ],
   "source": [
    "# 2. Add a New Column (Order_Status)\n",
    "#Manually add a new column named Order_Status with values:\n",
    "#\"Shipped\"\n",
    "#\"Pending\"\n",
    "#\"Delivered\"\n",
    "\n",
    "\n",
    "import pandas as pd\n",
    "data = {\n",
    "    'Order_ID': [101, 102, 103, 104, 105],\n",
    "    'Customer_Name': ['Alice Johnson', 'Bob Smith', 'Charlie Brown', 'David Wilson', 'Eva Adams'],\n",
    "    'Product': ['Laptop', 'Headphones', 'Smartphone', 'Tablet', 'Smartwatch'],\n",
    "    'Category': ['Electronics', 'Accessories', 'Electronics', 'Electronics', 'Wearables'],\n",
    "    'Price': [800, 50, 600, 300, 150],\n",
    "    'Quantity': [1, 2, 1, 1, 1]\n",
    "}\n",
    "\n",
    "df = pd.DataFrame(data)\n",
    "df['Order_Status'] = ['Shipped', 'Pending', 'Delivered', 'Shipped', 'Pending']\n",
    "print(df)\n",
    "\n"
   ]
  },
  {
   "cell_type": "code",
   "execution_count": null,
   "id": "df68129f-944f-4950-aa06-e38abbe82b20",
   "metadata": {},
   "outputs": [],
   "source": []
  }
 ],
 "metadata": {
  "kernelspec": {
   "display_name": "Python [conda env:base] *",
   "language": "python",
   "name": "conda-base-py"
  },
  "language_info": {
   "codemirror_mode": {
    "name": "ipython",
    "version": 3
   },
   "file_extension": ".py",
   "mimetype": "text/x-python",
   "name": "python",
   "nbconvert_exporter": "python",
   "pygments_lexer": "ipython3",
   "version": "3.11.7"
  }
 },
 "nbformat": 4,
 "nbformat_minor": 5
}
