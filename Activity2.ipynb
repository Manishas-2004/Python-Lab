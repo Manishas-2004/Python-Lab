{
 "cells": [
  {
   "cell_type": "code",
   "execution_count": 14,
   "id": "7306c3e1-e3bb-4d4d-88ab-e986a83d29ef",
   "metadata": {},
   "outputs": [
    {
     "name": "stdout",
     "output_type": "stream",
     "text": [
      "True\n",
      "False\n",
      "True\n"
     ]
    }
   ],
   "source": [
    "#1 Write a function is_palindrome(s) that return True if the input string s is a palindrome and False\n",
    "\n",
    "def is_palindrome(s):\n",
    "    s = s.lower().replace(\" \", \"\")  \n",
    "    return s == s[::-1]\n",
    "print(is_palindrome(\"madam\"))  # True\n",
    "print(is_palindrome(\"hello\"))  # False\n",
    "print(is_palindrome(\"racecar\"))  # True"
   ]
  },
  {
   "cell_type": "code",
   "execution_count": 16,
   "id": "663c0cbc-e8ec-4c6b-9d55-7826667be826",
   "metadata": {},
   "outputs": [
    {
     "name": "stdout",
     "output_type": "stream",
     "text": [
      "5\n",
      "None\n"
     ]
    }
   ],
   "source": [
    "#2 Write a function find_largest(1st) that takes a list of numbers and returns the largest number\n",
    "def find_largest(lst):\n",
    "    return max(lst) if lst else None\n",
    "print(find_largest([1, 2, 3, 4, 5]))  \n",
    "print(find_largest([]))  "
   ]
  },
  {
   "cell_type": "code",
   "execution_count": 18,
   "id": "a78612ff-af82-4547-a148-54e65ba41185",
   "metadata": {},
   "outputs": [
    {
     "name": "stdout",
     "output_type": "stream",
     "text": [
      "3\n",
      "1\n"
     ]
    }
   ],
   "source": [
    "#3 Write a function count_vowels(s) that returns the number of vowels (a,e,i,o,u) in the given string\n",
    "def count_vowels(s):\n",
    "    vowels = {'a', 'e', 'i', 'o', 'u'}\n",
    "    return sum(1 for char in s.lower() if char in vowels)\n",
    "print(count_vowels(\"Hello World\"))  # 3\n",
    "print(count_vowels(\"Python\"))  # 1"
   ]
  },
  {
   "cell_type": "code",
   "execution_count": null,
   "id": "12e5f6dc-f80b-4102-836f-4bfc2d651992",
   "metadata": {},
   "outputs": [],
   "source": []
  }
 ],
 "metadata": {
  "kernelspec": {
   "display_name": "Python [conda env:base] *",
   "language": "python",
   "name": "conda-base-py"
  },
  "language_info": {
   "codemirror_mode": {
    "name": "ipython",
    "version": 3
   },
   "file_extension": ".py",
   "mimetype": "text/x-python",
   "name": "python",
   "nbconvert_exporter": "python",
   "pygments_lexer": "ipython3",
   "version": "3.11.7"
  }
 },
 "nbformat": 4,
 "nbformat_minor": 5
}
