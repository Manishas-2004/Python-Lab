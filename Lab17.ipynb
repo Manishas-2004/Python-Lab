{
 "cells": [
  {
   "cell_type": "code",
   "execution_count": 2,
   "id": "36028548-1b18-4570-9612-5e9e4625d294",
   "metadata": {},
   "outputs": [
    {
     "name": "stdout",
     "output_type": "stream",
     "text": [
      "First two rows:\n",
      "  Employee Department  Salary  Age\n",
      "0     John         HR   60000   30\n",
      "1     Alex         HR   50000   25\n",
      "\n",
      "DataFrame with Experience column:\n",
      "  Employee Department  Salary  Age  Experience\n",
      "0     John         HR   60000   30           5\n",
      "1     Alex         HR   50000   25           3\n",
      "2     Riya    Finance   70000   28           7\n",
      "3    Steve    Finance   70000   32           8\n",
      "\n",
      "Average Salary of all employees: 62500.0\n"
     ]
    }
   ],
   "source": [
    "# 1.DataFrame Creation and Basic Operation\n",
    "\n",
    "import pandas as pd\n",
    "data = {\n",
    "    'Employee': ['John', 'Alex', 'Riya', 'Steve'],\n",
    "    'Department': ['HR', 'HR', 'Finance', 'Finance'],\n",
    "    'Salary': [60000, 50000, 70000, 70000],\n",
    "    'Age': [30, 25, 28, 32]\n",
    "}\n",
    "df = pd.DataFrame(data)\n",
    "\n",
    "# a) Display the first two rows\n",
    "print(\"First two rows:\")\n",
    "print(df.head(2))\n",
    "\n",
    "# b) Add a new column 'Experience' with values [5, 3, 7, 8]\n",
    "df['Experience'] = [5, 3, 7, 8]\n",
    "print(\"\\nDataFrame with Experience column:\")\n",
    "print(df)\n",
    "\n",
    "# c) Find the average salary\n",
    "average_salary = df['Salary'].mean()\n",
    "print(\"\\nAverage Salary of all employees:\", average_salary)\n"
   ]
  },
  {
   "cell_type": "code",
   "execution_count": null,
   "id": "2f47da2c-3fa3-45bc-97df-c57c82b39802",
   "metadata": {},
   "outputs": [],
   "source": []
  },
  {
   "cell_type": "code",
   "execution_count": 4,
   "id": "a02614c7-88b9-45c9-980d-9e190da0ed6a",
   "metadata": {},
   "outputs": [
    {
     "name": "stdout",
     "output_type": "stream",
     "text": [
      "\n",
      "Students with Math > 80:\n",
      "      Name  Math  Science  English\n",
      "0    Alice    85       88       80\n",
      "2  Charlie    90       75       88\n",
      "\n",
      "Students sorted by Science score (descending):\n",
      "      Name  Math  Science  English\n",
      "0    Alice    85       88       80\n",
      "1      Bob    78       82       70\n",
      "2  Charlie    90       75       88\n",
      "3    David    65       70       60\n",
      "\n",
      "Student with highest English score:\n",
      "Name       Charlie\n",
      "Math            90\n",
      "Science         75\n",
      "English         88\n",
      "Name: 2, dtype: object\n"
     ]
    }
   ],
   "source": [
    "# b)Dataset of students(3 subjects)\n",
    "\n",
    "# Creating a dataset\n",
    "data = {\n",
    "    'Name': ['Alice', 'Bob', 'Charlie', 'David'],\n",
    "    'Math': [85, 78, 90, 65],\n",
    "    'Science': [88, 82, 75, 70],\n",
    "    'English': [80, 70, 88, 60]\n",
    "}\n",
    "students_df = pd.DataFrame(data)\n",
    "\n",
    "# 1) Display all students who scored more than 80 in Math\n",
    "print(\"\\nStudents with Math > 80:\")\n",
    "print(students_df[students_df['Math'] > 80])\n",
    "\n",
    "# 2) Sort the DataFrame in descending order based on Science scores\n",
    "sorted_df = students_df.sort_values(by='Science', ascending=False)\n",
    "print(\"\\nStudents sorted by Science score (descending):\")\n",
    "print(sorted_df)\n",
    "\n",
    "# 3) Find the student with the highest English score\n",
    "top_english_student = students_df.loc[students_df['English'].idxmax()]\n",
    "print(\"\\nStudent with highest English score:\")\n",
    "print(top_english_student)\n",
    "\n",
    "\n"
   ]
  },
  {
   "cell_type": "code",
   "execution_count": null,
   "id": "aaede477-0ac9-4210-b147-e0444d5959dd",
   "metadata": {},
   "outputs": [],
   "source": []
  },
  {
   "cell_type": "code",
   "execution_count": 8,
   "id": "edb876f9-21ef-4cc0-85f2-7a40ccfefd77",
   "metadata": {},
   "outputs": [
    {
     "name": "stdout",
     "output_type": "stream",
     "text": [
      "\n",
      "Monthly Expenses:\n",
      "Groceries          500\n",
      "Utilities          200\n",
      "Rent              1200\n",
      "Transportation     300\n",
      "Entertainment      150\n",
      "dtype: int64\n"
     ]
    }
   ],
   "source": [
    "#Lab2 \n",
    "\n",
    "\n",
    "categories = ['Groceries', 'Utilities', 'Rent', 'Transportation', 'Entertainment']\n",
    "expenses = [500, 200, 1200, 300, 150]\n",
    "expense_series = pd.Series(expenses, index=categories)\n",
    "print(\"\\nMonthly Expenses:\")\n",
    "print(expense_series)\n"
   ]
  },
  {
   "cell_type": "code",
   "execution_count": null,
   "id": "1b6df0c4-4797-4c34-8a15-61d474f3d8b6",
   "metadata": {},
   "outputs": [],
   "source": []
  },
  {
   "cell_type": "code",
   "execution_count": 10,
   "id": "dc8c30c2-0dbe-45d5-8a2d-c5b773cb3c65",
   "metadata": {},
   "outputs": [
    {
     "name": "stdout",
     "output_type": "stream",
     "text": [
      "\n",
      "Electricity Usage (kWh):\n",
      "January      310\n",
      "February     320\n",
      "March        310\n",
      "April        330\n",
      "May          340\n",
      "June         370\n",
      "July         380\n",
      "August       360\n",
      "September    350\n",
      "October      360\n",
      "November     320\n",
      "December     330\n",
      "dtype: int64\n",
      "\n",
      "Gas Usage (therms):\n",
      "January      20\n",
      "February     18\n",
      "March        16\n",
      "April        15\n",
      "May          12\n",
      "June         10\n",
      "July          8\n",
      "August        8\n",
      "September    12\n",
      "October      15\n",
      "November     17\n",
      "December     19\n",
      "dtype: int64\n"
     ]
    }
   ],
   "source": [
    "# Lab3\n",
    "\n",
    "# Months of the year\n",
    "months = ['January', 'February', 'March', 'April', 'May', 'June',\n",
    "          'July', 'August', 'September', 'October', 'November', 'December']\n",
    "electricity_usage = [310, 320, 310, 330, 340, 370, 380, 360, 350, 360, 320, 330]\n",
    "gas_usage = [20, 18, 16, 15, 12, 10, 8, 8, 12, 15, 17, 19]\n",
    "electricity_series = pd.Series(electricity_usage, index=months)\n",
    "gas_series = pd.Series(gas_usage, index=months)\n",
    "print(\"\\nElectricity Usage (kWh):\")\n",
    "print(electricity_series)\n",
    "print(\"\\nGas Usage (therms):\")\n",
    "print(gas_series)\n"
   ]
  },
  {
   "cell_type": "code",
   "execution_count": null,
   "id": "22d63c17-4def-4d94-ac6a-ab624f703e30",
   "metadata": {},
   "outputs": [],
   "source": []
  },
  {
   "cell_type": "code",
   "execution_count": 12,
   "id": "fa048e5e-0de5-41f0-ae89-e6dbeb127617",
   "metadata": {},
   "outputs": [
    {
     "name": "stdout",
     "output_type": "stream",
     "text": [
      "\n",
      "Monthly Website Revenue (USD):\n",
      "January      5000\n",
      "February     5200\n",
      "March        4800\n",
      "April        5400\n",
      "May          5600\n",
      "June         5800\n",
      "July         6100\n",
      "August       6200\n",
      "September    6500\n",
      "October      6900\n",
      "November     7000\n",
      "December     6900\n",
      "dtype: int64\n"
     ]
    }
   ],
   "source": [
    "#Lab4\n",
    "\n",
    "# Revenue data\n",
    "revenue = [5000, 5200, 4800, 5400, 5600, 5800, 6100, 6200, 6500, 6900, 7000, 6900]\n",
    "revenue_series = pd.Series(revenue, index=months)\n",
    "print(\"\\nMonthly Website Revenue (USD):\")\n",
    "print(revenue_series)\n"
   ]
  },
  {
   "cell_type": "code",
   "execution_count": null,
   "id": "76f6abfc-500c-4560-9558-dce3c5623a4c",
   "metadata": {},
   "outputs": [],
   "source": []
  }
 ],
 "metadata": {
  "kernelspec": {
   "display_name": "Python [conda env:base] *",
   "language": "python",
   "name": "conda-base-py"
  },
  "language_info": {
   "codemirror_mode": {
    "name": "ipython",
    "version": 3
   },
   "file_extension": ".py",
   "mimetype": "text/x-python",
   "name": "python",
   "nbconvert_exporter": "python",
   "pygments_lexer": "ipython3",
   "version": "3.11.7"
  }
 },
 "nbformat": 4,
 "nbformat_minor": 5
}
